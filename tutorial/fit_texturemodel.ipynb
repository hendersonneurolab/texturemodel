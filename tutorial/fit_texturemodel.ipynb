{
 "cells": [
  {
   "cell_type": "code",
   "execution_count": 1,
   "id": "9ccd8c51-9af0-4691-9f07-388937c52e8f",
   "metadata": {},
   "outputs": [
    {
     "name": "stderr",
     "output_type": "stream",
     "text": [
      "/Users/margarethenderson/opt/anaconda3/envs/myenv/lib/python3.9/site-packages/pandas/core/computation/expressions.py:21: UserWarning: Pandas requires version '2.8.4' or newer of 'numexpr' (version '2.8.3' currently installed).\n",
      "  from pandas.core.computation.check import NUMEXPR_INSTALLED\n",
      "/Users/margarethenderson/opt/anaconda3/envs/myenv/lib/python3.9/site-packages/pandas/core/arrays/masked.py:60: UserWarning: Pandas requires version '1.3.6' or newer of 'bottleneck' (version '1.3.5' currently installed).\n",
      "  from pandas.core import (\n"
     ]
    },
    {
     "name": "stdout",
     "output_type": "stream",
     "text": [
      "/Users/margarethenderson/Dropbox/teaching/upnc_bootcamp/texturemodel\n"
     ]
    }
   ],
   "source": [
    "# import basic modules\n",
    "import sys\n",
    "import os\n",
    "import time\n",
    "import numpy as np\n",
    "import h5py\n",
    "import pandas as pd\n",
    "import scipy\n",
    "import torch\n",
    "import matplotlib\n",
    "import matplotlib.pyplot as plt\n",
    "import warnings\n",
    "\n",
    "# This line ensures the \"code\" directory is first on your path\n",
    "# Otherwise the following import lines don't work.\n",
    "root = os.path.dirname(os.getcwd())\n",
    "print(root)\n",
    "sys.path.insert(0,os.path.join(root, 'code'))\n",
    "\n",
    "# some tools to import\n",
    "from utils import prf_utils, numpy_utils, stats_utils"
   ]
  },
  {
   "cell_type": "markdown",
   "id": "6b8f3bb0-b7b7-4374-beca-3a9a4c0116bf",
   "metadata": {},
   "source": [
    "### Download data from Dropbox\n",
    "\n",
    "https://www.dropbox.com/scl/fo/tczbpdoh01uj5wahwv8ov/ADta4eycRHH4VODZ5kFJ5y4?rlkey=0rupoh64wg4a4umo0pr7ymb8k&st=89zr3z7e&dl=0\n",
    "\n",
    "NOTE: the files \"nsdpreproc.zip\" and \"texturefeatures.zip\" are very big, because they contain information about 8 subjects. You can skip downloading these for now, unless you want all the data. The files \"nsdpreproc_S01.zip\" and \"texturefeatures_S01.zip\" will contain everything needed to analyze one subject (S01), which is enough for this notebook.\n",
    "\n",
    "Put all those files in the same folder \"texturemodel\" is in. Then unzip."
   ]
  },
  {
   "cell_type": "code",
   "execution_count": 2,
   "id": "90f725d3-de81-4608-b8ca-70b6870311ff",
   "metadata": {},
   "outputs": [
    {
     "name": "stdout",
     "output_type": "stream",
     "text": [
      "#device: 0\n",
      "cpu:0\n"
     ]
    }
   ],
   "source": [
    "# do we have access to a GPU? not needed for this, but can be used if available.\n",
    "\n",
    "def init_cuda():\n",
    "    \n",
    "    # Set up CUDA stuff\n",
    "    print ('#device:', torch.cuda.device_count())\n",
    "    print ('device#:', torch.cuda.current_device())\n",
    "    print ('device name:', torch.cuda.get_device_name(torch.cuda.current_device()))\n",
    "\n",
    "    torch.manual_seed(time.time())\n",
    "    device = torch.device(\"cuda:0\") #cuda\n",
    "    torch.backends.cudnn.enabled=True\n",
    "\n",
    "    print ('\\ntorch:', torch.__version__)\n",
    "    print ('cuda: ', torch.version.cuda)\n",
    "    print ('cudnn:', torch.backends.cudnn.version())\n",
    "    print ('dtype:', torch.get_default_dtype())\n",
    "\n",
    "    return device\n",
    "    \n",
    "try:\n",
    "    init_cuda()\n",
    "except:\n",
    "    device = 'cpu:0'\n",
    "\n",
    "print(device)"
   ]
  },
  {
   "cell_type": "markdown",
   "id": "a86148ae-7cad-4339-b147-50adc0b953ce",
   "metadata": {},
   "source": [
    "### Loading the data\n",
    "\n",
    "We're using data from the Natural Scenes Dataset:\n",
    "Allen et al. (2022), Nature Neuroscience\n",
    "\n",
    "https://www.nature.com/articles/s41593-021-00962-x\n"
   ]
  },
  {
   "cell_type": "code",
   "execution_count": 3,
   "id": "11f3756c-cac9-43d3-b1c5-2c0438143247",
   "metadata": {},
   "outputs": [],
   "source": [
    "# Set some paths: where the preprocessed NSD files live\n",
    "# If this doesn't work, try manually setting \"nsd_path\" to wherever you downloaded this.\n",
    "root_up = os.path.dirname(root)\n",
    "nsd_path = os.path.join(root_up, 'nsd_preproc')\n",
    "# nsd_path = '/lab_data/hendersonlab/nsd_preproc'\n",
    "data_folder = os.path.join(nsd_path, 'data')\n",
    "labels_folder = os.path.join(nsd_path, 'labels')\n",
    "stim_folder = os.path.join(nsd_path, 'stimuli')\n",
    "rois_folder = os.path.join(nsd_path, 'rois')"
   ]
  },
  {
   "cell_type": "code",
   "execution_count": 4,
   "id": "d9a89f59-773f-46cf-9fea-d19e008f0e5a",
   "metadata": {},
   "outputs": [],
   "source": [
    "# Which subject to work with?\n",
    "# If you downloaded the \"nsdpreproc_S01\" and \"texturefeatures_S01\" files, then only subject 1 will work\n",
    "# if you downloaded the larger \"nsdpreproc\" and \"texturefeatures\", you can use 1-8.\n",
    "subject = 1; "
   ]
  },
  {
   "cell_type": "code",
   "execution_count": 5,
   "id": "c325b9fb-d02d-4c31-8c09-5cc0641aef56",
   "metadata": {},
   "outputs": [
    {
     "name": "stdout",
     "output_type": "stream",
     "text": [
      "/Users/margarethenderson/Dropbox/teaching/upnc_bootcamp/nsd_preproc/labels/S1_image_info.csv\n"
     ]
    }
   ],
   "source": [
    "# Load info about images shown on each trial\n",
    "info_fn = os.path.join(labels_folder, 'S%d_image_info.csv'%(subject))\n",
    "print(info_fn)\n",
    "info = pd.read_csv(info_fn)\n",
    "# this df has [10,000] elements. Each element is 1 unique image.\n",
    "# it contains info about the images and where they came from (within the MS COCO dataset).\n",
    "# the rows of this correspond exactly to the features files (which will be loaded below).\n",
    "\n",
    "image_order = np.array(info['unique_ims'])\n",
    "n_reps = np.array(info['n_reps'])"
   ]
  },
  {
   "cell_type": "code",
   "execution_count": 8,
   "id": "661fa893-8a92-444f-a414-a81a8fdf2466",
   "metadata": {},
   "outputs": [
    {
     "name": "stdout",
     "output_type": "stream",
     "text": [
      "/Users/margarethenderson/Dropbox/teaching/upnc_bootcamp/nsd_preproc/data/S1_betas_avg_bigmask.hdf5\n",
      "Took 2.49420 seconds to load file\n",
      "(10000, 19738)\n",
      "0\n",
      "(10000, 19738)\n"
     ]
    }
   ],
   "source": [
    "# Load the fMRI data for this subject\n",
    "data_filename = os.path.join(data_folder, 'S%d_betas_avg_bigmask.hdf5'%subject)\n",
    "print(data_filename)\n",
    "\n",
    "t = time.time()\n",
    "with h5py.File(data_filename, 'r') as data_set:\n",
    "    values = np.copy(data_set['/betas'])\n",
    "    data_set.close() \n",
    "elapsed = time.time() - t\n",
    "print('Took %.5f seconds to load file'%elapsed)\n",
    "# data is organized as:\n",
    "# [images x voxels]\n",
    "# Each image was shown multiple times, and these values capture average response to each image.\n",
    "# Keep in mind this is already several steps of preprocessing removed from the raw data.\n",
    "# Steps like motion correction have already been performed to improve signal quality\n",
    "# And single-trial beta weights were extracted using a GLM analysis.\n",
    "# Data have also been z-scored, within each session\n",
    "# Beta weights for repetitions of each image have been averaged.\n",
    "   \n",
    "# Some of these values may be nans, only for some subjects\n",
    "# this is for subjects who didn't complete all 40 sessions of NSD experiment.\n",
    "# make sure we remove the nans now.\n",
    "# for subject 1: we should have all the data, no nans.\n",
    "good_values = ~np.isnan(values[:,0])\n",
    "print(values.shape)\n",
    "print(np.sum(~good_values))\n",
    "\n",
    "voxel_data = values[good_values,:]\n",
    "print(voxel_data.shape)\n",
    "\n",
    "# check that nans are exactly where we expect\n",
    "# nans happen when n_reps=0\n",
    "assert(np.all(good_values[n_reps>0]))\n",
    "assert(np.all(~good_values[n_reps==0]))"
   ]
  },
  {
   "cell_type": "code",
   "execution_count": 9,
   "id": "f6f9d60f-9d71-4857-8788-6cc65c75e11b",
   "metadata": {},
   "outputs": [
    {
     "name": "stdout",
     "output_type": "stream",
     "text": [
      "/Users/margarethenderson/Dropbox/teaching/upnc_bootcamp/nsd_preproc/rois/S1_voxel_roi_info.npy\n"
     ]
    }
   ],
   "source": [
    "# Load info about rois and voxels in the data\n",
    "# ROI = region of interest. These are visual areas we want to focus on for analysis.\n",
    "fn = os.path.join(rois_folder, 'S%d_voxel_roi_info.npy'%subject)\n",
    "print(fn)\n",
    "rinfo = np.load(fn, allow_pickle=True).item()\n",
    "# this is a dictionary that contains information about which voxels our data will include.\n",
    "# voxel_mask is the whole set of voxels we're focusing on. basically all of visual cortex.\n",
    "\n",
    "voxel_mask = rinfo['voxel_mask']\n",
    "voxel_index = rinfo['voxel_idx']\n",
    "voxel_ncsnr = rinfo['ncsnr_full']\n",
    "brain_nii_shape = rinfo['brain_nii_shape']"
   ]
  },
  {
   "cell_type": "code",
   "execution_count": 10,
   "id": "30c668ec-b8a8-480d-ba86-e33aef6e2dee",
   "metadata": {},
   "outputs": [
    {
     "data": {
      "text/plain": [
       "(19738, 756)"
      ]
     },
     "execution_count": 10,
     "metadata": {},
     "output_type": "execute_result"
    }
   ],
   "source": [
    "# Pick one ROI to focus on here.\n",
    "\n",
    "roi_name = 'V1d' #dorsal part of V1. \n",
    "# you could also try other ROI names. \n",
    "# can use anything in: rinfo['ret_prf_roi_names']\n",
    "# for example V2d, hV4...\n",
    "ind_num = rinfo['ret_prf_roi_names'][roi_name]\n",
    "roi_inds = rinfo['roi_labels_retino'][voxel_mask]==ind_num\n",
    "roi_inds_num = np.where(roi_inds)[0]\n",
    "len(roi_inds), np.sum(roi_inds)\n",
    "\n",
    "\n",
    "# If you want to try other areas, uncomment one of these blocks:\n",
    "\n",
    "# roi_name = 'FFA-1' \n",
    "# ind_num = rinfo['floc_face_roi_names'][roi_name]\n",
    "# roi_inds = rinfo['roi_labels_face'][voxel_mask]==ind_num\n",
    "# roi_inds_num = np.where(roi_inds)[0]\n",
    "# len(roi_inds), np.sum(roi_inds)\n",
    "\n",
    "# roi_name = 'PPA' \n",
    "# ind_num = rinfo['floc_place_roi_names'][roi_name]\n",
    "# roi_inds = rinfo['roi_labels_place'][voxel_mask]==ind_num\n",
    "# roi_inds_num = np.where(roi_inds)[0]\n",
    "# len(roi_inds), np.sum(roi_inds)"
   ]
  },
  {
   "cell_type": "markdown",
   "id": "5fb165dd-f324-4e0f-bf39-b04ae678f4cb",
   "metadata": {},
   "source": [
    "### Split data into train/holdout/val partitions\n",
    "\n",
    "- Training data: used to fit the model weights\n",
    "- Holdout data (nested validation): used to choose best pRF and ridge parameters\n",
    "- Validation data: held out until the very end, used to compute the validation set R2."
   ]
  },
  {
   "cell_type": "code",
   "execution_count": 11,
   "id": "15e9ae1f-57d0-48c9-ae2d-1ba695c10834",
   "metadata": {},
   "outputs": [
    {
     "name": "stdout",
     "output_type": "stream",
     "text": [
      "(8100, 19738) (1000, 19738) (900, 19738)\n"
     ]
    }
   ],
   "source": [
    "# fixed random seeds for each subject, to make sure shuffling is repeatable\n",
    "rndseeds = [171301, 42102, 490304, 521005, 11407, 501610, 552211, 450013, 824387]\n",
    "si = subject-1 # remember python is zero-indexed. but subjects are one-indexed.\n",
    "\n",
    "# Always holding out 1000 \"shared images\", which were seen by all NSD participants, as \n",
    "# the validation set. \n",
    "val_inds = np.array(info['shared1000'])\n",
    "\n",
    "# Then take a random 10% of the remaining data, as the nested \"holdout\" set.\n",
    "# Holdout set is used to choose ridge parameters and pRF parameters.\n",
    "# You could experiment with different % holdout, 10% usually works well.\n",
    "pct_holdout = 0.10\n",
    "n_images_total = info.shape[0]\n",
    "n_images_notval = np.sum(~val_inds);\n",
    "n_images_holdout = int(np.ceil(n_images_notval*pct_holdout))\n",
    "n_images_trn = n_images_notval - n_images_holdout\n",
    "\n",
    "inds_notval = np.where(~val_inds)[0]\n",
    "np.random.seed(rndseeds[si]) \n",
    "np.random.shuffle(inds_notval) # this is the only random part\n",
    "\n",
    "inds_trn = inds_notval[0:n_images_trn]\n",
    "inds_holdout = inds_notval[n_images_trn:]\n",
    "assert(len(inds_holdout)==n_images_holdout)\n",
    "\n",
    "trn_inds = np.isin(np.arange(0, n_images_total), inds_trn)\n",
    "holdout_inds = np.isin(np.arange(0, n_images_total), inds_holdout)\n",
    "\n",
    "# remove nan rows here\n",
    "trn_inds = trn_inds[good_values]\n",
    "val_inds = val_inds[good_values]\n",
    "holdout_inds = holdout_inds[good_values]\n",
    "\n",
    "# apply these indices to split the voxel data and image labels.\n",
    "voxel_data_trn = voxel_data[trn_inds, :]\n",
    "voxel_data_val = voxel_data[val_inds, :]\n",
    "voxel_data_holdout = voxel_data[holdout_inds, :]\n",
    "\n",
    "n_voxels = voxel_data_trn.shape[1]   \n",
    "print(voxel_data_trn.shape, voxel_data_val.shape, voxel_data_holdout.shape)\n",
    "\n",
    "image_order_use = image_order[good_values]\n",
    "image_inds_trn = image_order_use[trn_inds]\n",
    "image_inds_val = image_order_use[val_inds]\n",
    "image_inds_holdout = image_order_use[holdout_inds]\n"
   ]
  },
  {
   "cell_type": "markdown",
   "id": "dfbaa7c9-69a2-4a78-820f-e0641832af00",
   "metadata": {},
   "source": [
    "### Fitting a texture statistics encoding model\n",
    "\n",
    "Following from our paper: Henderson, Tarr, & Wehbe (2023), Journal of Neuroscience.\n",
    "https://www.jneurosci.org/content/43/22/4144\n"
   ]
  },
  {
   "cell_type": "markdown",
   "id": "7c5788dd-a10d-4c4e-a08d-0f9e85d743f4",
   "metadata": {},
   "source": [
    "### Defining the pRF grid\n",
    "\n",
    "We use a feature-weighted receptive field modeling approach here.\n",
    "\n",
    "Each voxel has a pRF (population receptive field) that describes its spatial selectivity. Within that pRF, we'll fit a set of weights that capture its feature selectivity."
   ]
  },
  {
   "cell_type": "code",
   "execution_count": null,
   "id": "365fe63c-d15b-472f-9536-7d4ccef8069d",
   "metadata": {},
   "outputs": [],
   "source": [
    "# Make pRF grid\n",
    "# We're making a log-polar grid here.\n",
    "# Columns are [x, y, sigma]\n",
    "prf_models = prf_utils.make_log_polar_grid(sigma_range=[0.02, 1], n_sigma_steps=10, \\\n",
    "                              eccen_range=[0, 7/8.4], n_eccen_steps=10, n_angle_steps=16) \n",
    "n_prfs = prf_models.shape[0]"
   ]
  },
  {
   "cell_type": "markdown",
   "id": "0a24e1ef-5ff4-4283-b49c-6c0e351d1d5c",
   "metadata": {},
   "source": [
    "These parameters are the same as \"which_prf_grid=5\" in the fitting code. When we load the pre-computed features below, which have \"grid5\" in the name, they correspond to this pRF grid."
   ]
  },
  {
   "cell_type": "code",
   "execution_count": null,
   "id": "60f7c7ee-feb2-4120-be0d-44cbe363f3dd",
   "metadata": {
    "jupyter": {
     "source_hidden": true
    }
   },
   "outputs": [],
   "source": [
    "# Plot an example pRF (2D gaussian)\n",
    "\n",
    "prf_ind = 759\n",
    "print(prf_models[prf_ind])\n",
    "n_pix = 240\n",
    "\n",
    "x, y, sigma = prf_models[prf_ind]\n",
    "\n",
    "# if you change x,y,sigma, what happens?\n",
    "\n",
    "# x = -0.2;\n",
    "# y = 0.1;\n",
    "# sigma = 0.1;\n",
    "\n",
    "gauss = prf_utils.gauss_2d([x,y],sigma, patch_size=n_pix)\n",
    "plt.figure(figsize=(4, 4))\n",
    "plt.pcolormesh(np.flipud(gauss))\n",
    "plt.axis('square')\n",
    "center = n_pix/2\n",
    "plt.axhline(center);\n",
    "plt.axvline(center)\n",
    "\n",
    "xp = x * n_pix + center\n",
    "yp = y * n_pix + center\n",
    "\n",
    "plt.plot(xp, yp, 'o', color='w')\n",
    "\n",
    "plt.title('Example pRF, in image space')"
   ]
  },
  {
   "cell_type": "code",
   "execution_count": null,
   "id": "9f2d9b45-4c77-4e85-97be-4de0aced546c",
   "metadata": {
    "jupyter": {
     "source_hidden": true
    }
   },
   "outputs": [],
   "source": [
    "# Plot the entire grid of pRFs. \n",
    "# Note that the spacing is in log-polar coordinates, and denser at middle.\n",
    "\n",
    "def plot_prf_grid(prf_models, xy_circ = [-0.4, -0.4], screen_eccen_deg = 8.4):\n",
    "\n",
    "    \"\"\"\n",
    "    Visualize a grid of pRF positions.\n",
    "    Makes a subplot for each separate pRF size, with the size drawn as a circle.\n",
    "    prf_models is [n_prfs x 3], where columns are [x,y,sigma]\n",
    "    xy_circ is the approximate center of the pRF to draw as a circle \n",
    "    (for simplicity, others are just dots)\n",
    "    \"\"\"\n",
    "    \n",
    "    unique_sizes = np.unique(np.round(prf_models[:,2],4))\n",
    "    plt.figure(figsize=(18,12));\n",
    "\n",
    "    for si, size in enumerate(unique_sizes):\n",
    "\n",
    "        inds = np.where(np.round(prf_models[:,2],4)==size)[0]\n",
    "        \n",
    "        prf_models_plot = prf_models[inds,:]\n",
    "        ind = np.argmin(np.abs(prf_models_plot[:,0] - xy_circ[0]) + np.abs(prf_models_plot[:,1] - xy_circ[1]))\n",
    "        xy_circ_actual = [prf_models_plot[ind,0], prf_models_plot[ind,1]]\n",
    "\n",
    "        plt.subplot(3,4,si+1)\n",
    "        ax = plt.gca()\n",
    "        plt.plot(prf_models[inds,0]*screen_eccen_deg, prf_models[inds,1]*screen_eccen_deg, '.')\n",
    "        plt.plot(xy_circ_actual[0]*screen_eccen_deg, xy_circ_actual[1]*screen_eccen_deg, '.',color='k')\n",
    "        circ = matplotlib.patches.Circle((xy_circ_actual[0]*screen_eccen_deg, \\\n",
    "                                          xy_circ_actual[1]*screen_eccen_deg), \\\n",
    "                                          size*screen_eccen_deg, \\\n",
    "                                          color = [0.2, 0.2, 0.2], fill=False)\n",
    "        ax.add_artist(circ)\n",
    "        plt.axis('square')\n",
    "        # plt.xlim([-1.5*screen_eccen_deg, 1.5*screen_eccen_deg])\n",
    "        # plt.ylim([-1.5*screen_eccen_deg, 1.5*screen_eccen_deg])\n",
    "        plt.xlim([-0.8*screen_eccen_deg, 0.8*screen_eccen_deg])\n",
    "        plt.ylim([-0.8*screen_eccen_deg, 0.8*screen_eccen_deg])\n",
    "        plt.xticks(np.arange(-8,9,4))\n",
    "        plt.yticks(np.arange(-8,9,4))\n",
    "\n",
    "        plt.plot([screen_eccen_deg/2,screen_eccen_deg/2], \\\n",
    "                 [screen_eccen_deg/2, -screen_eccen_deg/2],color=[0.8, 0.8, 0.8])\n",
    "        plt.plot([-screen_eccen_deg/2,-screen_eccen_deg/2], \\\n",
    "                 [screen_eccen_deg/2, -screen_eccen_deg/2],color=[0.8, 0.8, 0.8])\n",
    "        plt.plot([-screen_eccen_deg/2,screen_eccen_deg/2], \\\n",
    "                 [screen_eccen_deg/2, screen_eccen_deg/2],color=[0.8, 0.8, 0.8])\n",
    "        plt.plot([-screen_eccen_deg/2,screen_eccen_deg/2], \\\n",
    "                 [-screen_eccen_deg/2, -screen_eccen_deg/2],color=[0.8, 0.8, 0.8])\n",
    "\n",
    "        if si>7:\n",
    "            plt.xlabel('x coord (deg)')\n",
    "        if np.mod(si,4)==0:\n",
    "            plt.ylabel('y coord (deg)')\n",
    "\n",
    "        plt.title('pRF sigma=%.2f deg'%(size*screen_eccen_deg))\n",
    "\n",
    "plot_prf_grid(prf_models)\n"
   ]
  },
  {
   "cell_type": "markdown",
   "id": "62149481-2ea3-45a5-9136-59b728d6fbc0",
   "metadata": {},
   "source": [
    "### Loading fit parameters"
   ]
  },
  {
   "cell_type": "markdown",
   "id": "405728e3-cd5d-4ad0-8c0c-1cdecdeb4d59",
   "metadata": {
    "jp-MarkdownHeadingCollapsed": true
   },
   "source": [
    "Loading a pre-computed model fit, for one subject. It takes a long time to perform this fitting \n",
    "( ~1 hour per subject on a GPU, or much longer on a CPU). So for now let's pretend we already fit it.\n",
    "\n",
    "To see the entire fitting pipeline, see:\n",
    "\n",
    "<code/model_fitting/fit_model.py> and <code/model_fitting/fwrf_model.py>"
   ]
  },
  {
   "cell_type": "code",
   "execution_count": 18,
   "id": "97d2060d-48d8-4a9a-8274-cbdc941c8e22",
   "metadata": {},
   "outputs": [
    {
     "name": "stdout",
     "output_type": "stream",
     "text": [
      "/Users/margarethenderson/Dropbox/teaching/upnc_bootcamp/model_fits\n",
      "/Users/margarethenderson/Dropbox/teaching/upnc_bootcamp/model_fits/S01/texture_pyramid_ridge_4ori_4sf_pcaHL_fit_pRFs/Jul-06-2022_1646_59/all_fit_params.npy\n"
     ]
    },
    {
     "data": {
      "text/plain": [
       "dict_keys(['subject', 'volume_space', 'fitting_types', 'voxel_mask', 'average_image_reps', 'brain_nii_shape', 'image_order', 'voxel_index', 'voxel_roi', 'voxel_ncsnr', 'which_prf_grid', 'prfs_fixed_sigma', 'models', 'best_losses', 'best_lambdas', 'best_params', 'lambdas', 'val_cc', 'val_r2', 'partial_masks', 'partial_version_names', 'zscore_features', 'ridge', 'set_lambda_per_group', 'debug', 'up_to_sess', 'single_sess', 'use_precomputed_prfs', 'saved_prfs_fn', 'best_layer_each_voxel', 'saved_best_layer_fn', 'voxel_subset_is_done_trn', 'voxel_subset_is_done_val', 'trial_subset', 'pyr_pca_type', 'group_all_hl_feats', 'do_pyr_varpart'])"
      ]
     },
     "execution_count": 18,
     "metadata": {},
     "output_type": "execute_result"
    }
   ],
   "source": [
    "model_fits_path = os.path.join(root_up, 'model_fits')\n",
    "print(model_fits_path) # check that this is right\n",
    "\n",
    "# these are the filenames of the best fits for different subjects.\n",
    "texture_fit_paths = ['S01/texture_pyramid_ridge_4ori_4sf_pcaHL_fit_pRFs/Jul-06-2022_1646_59/all_fit_params.npy', \\\n",
    "                 'S02/texture_pyramid_ridge_4ori_4sf_pcaHL_fit_pRFs/Jul-06-2022_1855_20/all_fit_params.npy',\\\n",
    "                 'S03/texture_pyramid_ridge_4ori_4sf_pcaHL_fit_pRFs/Jul-06-2022_2106_02/all_fit_params.npy', \\\n",
    "                 'S04/texture_pyramid_ridge_4ori_4sf_pcaHL_fit_pRFs/Jul-06-2022_2319_30/all_fit_params.npy', \\\n",
    "                 'S05/texture_pyramid_ridge_4ori_4sf_pcaHL_fit_pRFs/Jul-07-2022_0114_01/all_fit_params.npy', \\\n",
    "                 'S06/texture_pyramid_ridge_4ori_4sf_pcaHL_fit_pRFs/Jul-07-2022_0328_12/all_fit_params.npy', \\\n",
    "                 'S07/texture_pyramid_ridge_4ori_4sf_pcaHL_fit_pRFs/Jul-07-2022_0553_54/all_fit_params.npy', \\\n",
    "                 'S08/texture_pyramid_ridge_4ori_4sf_pcaHL_fit_pRFs/Jul-07-2022_0741_10/all_fit_params.npy']\n",
    "\n",
    "si = subject - 1\n",
    "fn2load = os.path.join(model_fits_path, texture_fit_paths[si])\n",
    "print(fn2load)\n",
    "\n",
    "out = np.load(fn2load, allow_pickle=True).item()\n",
    "\n",
    "# the fit file is a dictionary, keys are different parameters\n",
    "out.keys()"
   ]
  },
  {
   "cell_type": "code",
   "execution_count": 20,
   "id": "44121628-38e9-4ce7-9f67-f246fe0bc4b3",
   "metadata": {},
   "outputs": [
    {
     "data": {
      "text/plain": [
       "(10099, array([0.56607735], dtype=float32))"
      ]
     },
     "execution_count": 20,
     "metadata": {},
     "output_type": "execute_result"
    }
   ],
   "source": [
    "# R2 = coefficient of determination, evaluated on validation set.\n",
    "r2 = out['val_r2']\n",
    "\n",
    "# check number of voxels, this ensures we have the right subject here\n",
    "assert(voxel_data_trn.shape[1]==len(r2))\n",
    "\n",
    "# Choosing a voxel to focus on for the analysis. \n",
    "# I'm going to choose the \"best voxel\" in my ROI of interest (highest R2)\n",
    "# You can also try other voxels and see how this will differ.\n",
    "best_in_roi = roi_inds_num[np.argmax(r2[roi_inds])]\n",
    "\n",
    "voxel_ind = best_in_roi\n",
    "\n",
    "voxel_ind, r2[voxel_ind]"
   ]
  },
  {
   "cell_type": "code",
   "execution_count": 21,
   "id": "68830bda-eaa8-409b-8b9e-f8bc577147df",
   "metadata": {},
   "outputs": [
    {
     "data": {
      "text/plain": [
       "504"
      ]
     },
     "execution_count": 21,
     "metadata": {},
     "output_type": "execute_result"
    }
   ],
   "source": [
    "# Pull out all the parameters of the best fit model for each voxel\n",
    "best_prf_model_pars, best_weights, best_biases, \\\n",
    "      features_mean, features_std, best_prf_models = out['best_params']\n",
    "\n",
    "# what is the index of the best pRF for the voxel?\n",
    "prf_ind = best_prf_models[voxel_ind][0]\n",
    "\n",
    "prf_ind "
   ]
  },
  {
   "cell_type": "markdown",
   "id": "60778d8b-488d-4bc7-85c2-e394828f0f75",
   "metadata": {},
   "source": [
    "### Load the pre-computed texture model features\n",
    "\n",
    "See: <code/feature_extraction/extract_pyramid_texture_features.py> for details on how these were computed.\n",
    "\n",
    "It's very time consuming to compute these, so for now let's just use the saved features."
   ]
  },
  {
   "cell_type": "code",
   "execution_count": 28,
   "id": "2bf95566-c114-4575-9b9b-8e96bc306c2c",
   "metadata": {},
   "outputs": [
    {
     "name": "stdout",
     "output_type": "stream",
     "text": [
      "/Users/margarethenderson/Dropbox/teaching/upnc_bootcamp/features\n",
      "/Users/margarethenderson/Dropbox/teaching/upnc_bootcamp/features/pyramid_texture/PCA/S1_4ori_4sf_pcaHL_concat_grid5.h5py\n",
      "(10000, 125, 1456)\n",
      "Took 1.01281 seconds to load file\n",
      "/Users/margarethenderson/Dropbox/teaching/upnc_bootcamp/features/pyramid_texture/PCA/S1_4ori_4sf_featurelabels_pcaHL_grid5.npy\n"
     ]
    }
   ],
   "source": [
    "features_path = os.path.join(root_up, 'features')\n",
    "print(features_path) # check that this is right\n",
    "\n",
    "features_file = os.path.join(features_path, 'pyramid_texture','PCA', \\\n",
    "                             'S%d_4ori_4sf_pcaHL_concat_grid5.h5py'%(subject))\n",
    "print(features_file)\n",
    "\n",
    "# inside the features file is a 3D array: [n_images x n_features x n_pRFs]\n",
    "# we'll just load features for one pRF here, to save memory.\n",
    "# this is the best pRF for our voxel of interest.\n",
    "t = time.time()\n",
    "with h5py.File(features_file, 'r') as data_set:\n",
    "    print(data_set['/features'].shape)\n",
    "    values = np.copy(data_set['/features'][:,:,prf_ind])\n",
    "    data_set.close() \n",
    "elapsed = time.time() - t\n",
    "print('Took %.5f seconds to load file'%elapsed)\n",
    "\n",
    "# this accounts for any values that are missing in the fmri data array.\n",
    "f = values[good_values,:]\n",
    "\n",
    "# some of the features in here are nans - this is because we performed PCA on the features \n",
    "# within each subset, and we did this within each pRF. So, there are different numbers of PCs\n",
    "# kept for different pRFs.\n",
    "nan_feats = np.isnan(f[0,:])\n",
    "\n",
    "# f = f\n",
    "f = f[:,~nan_feats]\n",
    "\n",
    "# f = scipy.stats.zscore(f, axis=0)\n",
    "\n",
    "# this file tells us which features correspond to which subset\n",
    "feature_info_file = os.path.join(features_path, 'pyramid_texture','PCA', \\\n",
    "                             'S%d_4ori_4sf_featurelabels_pcaHL_grid5.npy'%(subject))\n",
    "print(feature_info_file)\n",
    "finfo = np.load(feature_info_file, allow_pickle = True).item()\n",
    "is_low_level = finfo['feature_column_labels']<=4 \n",
    "\n",
    "# This is the mask for lower-level vs higher-level features.\n",
    "# Will need this later when doing variance partition analysis.\n",
    "is_low_level = is_low_level[~nan_feats]"
   ]
  },
  {
   "cell_type": "markdown",
   "id": "baceaaf7-b67a-4dae-9add-f8ec6c6e44e2",
   "metadata": {},
   "source": [
    "### Split the model features the same way we split the data"
   ]
  },
  {
   "cell_type": "code",
   "execution_count": null,
   "id": "1a76ddb9-a8eb-4159-ac56-93d84c0083e0",
   "metadata": {},
   "outputs": [],
   "source": [
    "f_trn = f[trn_inds,:]\n",
    "f_val = f[val_inds,:]\n",
    "f_out = f[holdout_inds,:]\n",
    "\n",
    "# Z-score the data - this is a step that helps with fit stability.\n",
    "# I'm computing the normalization parameters (mean and std) on my training data only\n",
    "# (plus the nested held-out partition), but not the val set.\n",
    "# this helps reduce leakage of data between train and val partitions.\n",
    "# then apply those same normalization parameters to the val set too.\n",
    "f_concat = np.concatenate([f_trn, f_out], axis=0)\n",
    "# f_concat = f_trn\n",
    "\n",
    "features_m = np.mean(f_concat, axis=0, keepdims=True) #[:trn_size]\n",
    "# print(features_m[0,0:10])\n",
    "features_s = np.std(f_concat, axis=0, keepdims=True) + 1e-6          \n",
    "\n",
    "f_trn -= features_m\n",
    "f_trn /= features_s    \n",
    "f_out -= features_m\n",
    "f_out /= features_s   \n",
    "f_val -= features_m\n",
    "f_val /= features_s  \n",
    "\n",
    "# add the intercept: a column of ones\n",
    "f_trn = np.concatenate([f_trn, np.ones(shape=(len(f_trn), 1), dtype=f_trn.dtype)], axis=1)\n",
    "f_out = np.concatenate([f_out, np.ones(shape=(len(f_out), 1), dtype=f_out.dtype)], axis=1)\n",
    "f_val = np.concatenate([f_val, np.ones(shape=(len(f_val), 1), dtype=f_val.dtype)], axis=1)"
   ]
  },
  {
   "cell_type": "code",
   "execution_count": 56,
   "id": "57d51ca2-b547-43ac-a68f-a25d7154018f",
   "metadata": {},
   "outputs": [],
   "source": [
    "# Send all numpy arrays to PyTorch tensors.\n",
    "# the main reason we're using torch is because pytorch allows using a GPU for matrix operations. \n",
    "# When we have many voxels to fit, this will be way faster than CPU.\n",
    "# For smaller datasets on CPU, this same basic fitting procedure can also be done using \n",
    "# numpy only, or using sklearn (for example sklearn.linear_model.RidgeCV).\n",
    "\n",
    "vtrn = torch.Tensor(voxel_data_trn[:,voxel_ind:voxel_ind+1]).to(device).to(torch.float64)\n",
    "vout = torch.Tensor(voxel_data_holdout[:,voxel_ind:voxel_ind+1]).to(device).to(torch.float64)\n",
    "vval = torch.Tensor(voxel_data_val[:,voxel_ind:voxel_ind+1]).to(device).to(torch.float64)\n",
    "\n",
    "xtrn = torch.Tensor(f_trn).to(device).to(torch.float64)\n",
    "xout = torch.Tensor(f_out).to(device).to(torch.float64)\n",
    "xval = torch.Tensor(f_val).to(device).to(torch.float64)"
   ]
  },
  {
   "cell_type": "markdown",
   "id": "9e516620-6084-473f-bdef-a6be9e0a4e03",
   "metadata": {},
   "source": [
    "### Set up ridge parameters"
   ]
  },
  {
   "cell_type": "code",
   "execution_count": 44,
   "id": "0c2fe238-1820-4223-aefd-e84cd8ddb105",
   "metadata": {},
   "outputs": [],
   "source": [
    "# lambda is the ridge penalty, bigger = more regularization\n",
    "lambdas = np.logspace(np.log(0.01),np.log(10**5+0.01),9, dtype=np.float32, base=np.e) - 0.01\n",
    "\n",
    "# We're doing banded ridge regression here. \n",
    "# This allows each feature group to have its own lambda value.\n",
    "# So we are testing every possible combination of the above values.\n",
    "feature_group_inds = is_low_level\n",
    "un, n_each = np.unique(feature_group_inds, return_counts=True)\n",
    "n_feature_groups = len(un)\n",
    "lambda_combs = numpy_utils.list_all_combs(lambdas, n_feature_groups)\n",
    "lambda_vectors = np.concatenate([np.tile(lambda_combs[:,ii:ii+1], [1,n_each[ii]]) \\\n",
    "                                      for ii in range(n_feature_groups)], axis=1 )\n",
    "\n",
    "lambda_vectors= np.concatenate([lambda_vectors, np.zeros((lambda_vectors.shape[0],1))], axis=1)\n",
    "# [n_lambda_combs x n_features]\n",
    "# each row of this is a candidate set of lamdbas, applied across the features."
   ]
  },
  {
   "cell_type": "markdown",
   "id": "cb83d7b7-28b2-4a32-95c8-bad44a48f6bd",
   "metadata": {},
   "source": [
    "### Solve for weights using ridge regression "
   ]
  },
  {
   "cell_type": "code",
   "execution_count": 45,
   "id": "89b64676-0d16-448f-8f83-7c123402eace",
   "metadata": {},
   "outputs": [
    {
     "name": "stdout",
     "output_type": "stream",
     "text": [
      "tensor(39)\n"
     ]
    }
   ],
   "source": [
    "# regression problem is like: y = X @ b\n",
    "# where y = voxel data\n",
    "# X = design matrix (features)\n",
    "# b = beta (regression weights)\n",
    "\n",
    "# to solve it using ridge regression (L2-regularization), we'll want to do:\n",
    "# b = (X^T @ X + lambda*I)^(-1) @ X^T @ y\n",
    "# where I = identity matrix\n",
    "# and ^(-1) is matrix inverse.\n",
    "\n",
    "# we're going to solve it in a few stages here. \n",
    "# \"cofactor\" refers to the first part of the equation:\n",
    "# (X^T @ X + lambda*I)^(-1) @ X^T\n",
    "# then you multiply this by the training voxel data to get weights.\n",
    "# the main reason to do it this way is so we can re-use the \"cofactor\" part for many voxels, \n",
    "# which can be faster when we have a lot of voxels. Because the inverse is slow to compute.\n",
    "\n",
    "# Other ways to do this are: torch.linalg.solve\n",
    "\n",
    "# xT * x\n",
    "mult = xtrn.T @ xtrn\n",
    "\n",
    "# make an identity matrix\n",
    "ridge_term = torch.eye(xtrn.size()[1], device=device, dtype=torch.float64)\n",
    "\n",
    "# make versions of this matrix that are adjusted by each possible lambda value\n",
    "# this is: (X^T @ X + lambda*I)^(-1)\n",
    "# first dim is the different lambda values.\n",
    "lambda_matrices = torch.stack([(mult+ridge_term*l).inverse() \\\n",
    "           for l in lambda_vectors], axis=0)\n",
    "\n",
    "cofactor = torch.tensordot(lambda_matrices, xtrn, dims=[[2],[1]]) \n",
    "\n",
    "# solve for weights\n",
    "beta = torch.tensordot(cofactor, vtrn, dims=[[2], [0]]) # [#lambdas, #feature, #voxel]\n",
    "\n",
    "# predict the response on held-out data, using features from held-out data (xout)\n",
    "pred = torch.tensordot(xout, beta, dims=[[1],[1]]) # [#samples, #lambdas, #voxels]\n",
    "\n",
    "# compute loss for held-out data\n",
    "# this will tell us the loss for each of the possible lambda values\n",
    "loss = torch.sum(torch.pow(vout[:,None,:] - pred, 2), dim=0) # [#lambdas, #voxels]\n",
    "\n",
    "# choose the best lambda value, based on min loss\n",
    "best_lambda_ind = np.argmin(loss)\n",
    "print(best_lambda_ind)\n",
    "\n",
    "# we want to keep the weights that correspond to best lambda values\n",
    "beta_use = beta[best_lambda_ind,:]"
   ]
  },
  {
   "cell_type": "code",
   "execution_count": 160,
   "id": "a2c5824e-6a23-40f9-9180-abe1147f3103",
   "metadata": {},
   "outputs": [
    {
     "data": {
      "text/plain": [
       "[<matplotlib.lines.Line2D at 0x155f326d0>]"
      ]
     },
     "execution_count": 160,
     "metadata": {},
     "output_type": "execute_result"
    },
    {
     "data": {
      "image/png": "[encoded data removed]",
      "text/plain": [
       "<Figure size 400x300 with 2 Axes>"
      ]
     },
     "metadata": {},
     "output_type": "display_data"
    }
   ],
   "source": [
    "# Visualize the loss versus regularization strength. \n",
    "# We want to choose minimum on this plot\n",
    "# Note that it's 2d because we have 2 lambdas. For normal ridge, this would be just a 1D plot.\n",
    "# yellow = higher loss/worse\n",
    "\n",
    "loss_array = loss.numpy() # torch to numpy\n",
    "\n",
    "loss_reshaped = loss_array.reshape([len(lambdas), len(lambdas)])\n",
    "# lambda_reshaped = lambda_combs.reshape([len(lambdas), len(lambdas), 2])\n",
    "# loss_reshaped[loss_reshaped==np.min(loss_reshaped)]=-100\n",
    "plt.figure(figsize=(4,3))\n",
    "plt.pcolormesh(loss_reshaped.T)\n",
    "plt.colorbar()\n",
    "plt.title('loss vs banded ridge params')\n",
    "plt.xlabel('lambda for feature group 1')\n",
    "plt.ylabel('lambda for feature group 2')\n",
    "# print(lambdas)\n",
    "plt.xticks(np.arange(0.5, len(lambdas), 1), lambdas, rotation=45, ha='right');\n",
    "plt.yticks(np.arange(0.5, len(lambdas), 1), lambdas);\n",
    "\n",
    "best_loss_coords = np.unravel_index(best_lambda_ind, loss_reshaped.shape)\n",
    "\n",
    "plt.plot(best_loss_coords[0] + 0.5, best_loss_coords[1] + 0.5, 'o', color='r')"
   ]
  },
  {
   "cell_type": "markdown",
   "id": "835f2b82-46f1-4416-977d-1cf48ad269a5",
   "metadata": {},
   "source": [
    "### Predict held-out data"
   ]
  },
  {
   "cell_type": "code",
   "execution_count": 47,
   "id": "c846a4aa-9f9c-4b41-be27-7d60d88c6bb8",
   "metadata": {},
   "outputs": [],
   "source": [
    "# predict voxel response in held-out validation data here.\n",
    "pred = xval @ beta_use\n",
    "\n",
    "# remember to turn these back into numpy, from torch.\n",
    "# sometimes tensors will give errors in your subsequent numpy code.\n",
    "actual_array = vval.numpy()\n",
    "pred_array = pred.numpy()"
   ]
  },
  {
   "cell_type": "markdown",
   "id": "4a709bb4-df51-4c50-b852-94d2bf21c5e4",
   "metadata": {},
   "source": [
    "### Try yourself: evaluate the model fit\n",
    "- Compute R2 (coefficient of determination) and correlation coefficient\n",
    "- Make a plot that shows the alignment between real and predicted data.\n",
    "\n",
    "(answer is in hidden cells)"
   ]
  },
  {
   "cell_type": "code",
   "execution_count": null,
   "id": "39cccb2f-4ad5-4f7f-ba8f-4dcfc5ca064f",
   "metadata": {
    "jupyter": {
     "source_hidden": true
    }
   },
   "outputs": [],
   "source": [
    "\n",
    "# Compute R2 and correlation coefficient for this model fit.\n",
    "\n",
    "def get_r2(actual,predicted):\n",
    "    \"\"\"\n",
    "    This computes the coefficient of determination (R2).\n",
    "    Always goes along first dimension (i.e. the trials/samples dimension)\n",
    "    MAKE SURE INPUTS ARE ACTUAL AND THEN PREDICTED, NOT FLIPPED\n",
    "    \"\"\"\n",
    "    ssres = np.sum(np.power((predicted - actual),2), axis=0);\n",
    "    sstot = np.sum(np.power((actual - np.mean(actual, axis=0)),2), axis=0);\n",
    "    r2 = 1-(ssres/sstot)\n",
    "    \n",
    "    return r2\n",
    "\n",
    "\n",
    "r2 = stats_utils.get_r2(actual_array, pred_array)\n",
    "\n",
    "corrcoef = np.corrcoef(actual_array[:,0], pred_array[:,0])[1,0]\n",
    "\n",
    "print('R2 = %.5f, correlation = %.5f'%(r2, corrcoef))\n"
   ]
  },
  {
   "cell_type": "code",
   "execution_count": null,
   "id": "898b983b-1449-4252-a0a1-cde87291c4f5",
   "metadata": {
    "jupyter": {
     "source_hidden": true
    }
   },
   "outputs": [],
   "source": [
    "\n",
    "# check this against what's in the saved file.\n",
    "# there are some small differences in the fitting code, so it may be off by a bit.\n",
    "out['val_r2'][voxel_ind], out['val_cc'][voxel_ind]"
   ]
  },
  {
   "cell_type": "code",
   "execution_count": null,
   "id": "f35ab1d5-5465-4e94-86ab-f89275812879",
   "metadata": {
    "jupyter": {
     "source_hidden": true
    }
   },
   "outputs": [],
   "source": [
    "\n",
    "# Visualizing the fit accuracy\n",
    "\n",
    "# scatter plot: each point is one image\n",
    "\n",
    "plt.figure(figsize=(12,4))\n",
    "\n",
    "plt.subplot(1, 2, 1)\n",
    "plt.plot(actual_array, pred_array, 'o')\n",
    "plt.xlabel('Actual signal')\n",
    "plt.ylabel('Predicted signal')\n",
    "plt.axis('equal')\n",
    "\n",
    "plt.axvline(0, color='k')\n",
    "plt.axhline(0, color='k')\n",
    "\n",
    "# line plot: x axis are images, y axis is voxel response\n",
    "\n",
    "plt.subplot(1, 2, 2)\n",
    "plt.plot(actual_array)\n",
    "plt.plot(pred_array)\n",
    "\n",
    "plt.xlabel('image number')\n",
    "plt.ylabel('z-scored beta weight')\n",
    "\n",
    "plt.legend(['Actual','Predicted'])\n",
    "\n",
    "plt.suptitle('%s voxel, num %d'%(roi_name, voxel_ind))"
   ]
  },
  {
   "cell_type": "markdown",
   "id": "377b46e8-6123-43fc-bdf4-f51036a50dca",
   "metadata": {},
   "source": [
    "### Variance partitioning\n",
    "\n",
    "Compute the unique variance explained by each feature type.\n",
    "\n",
    "To do this, we leave out a set of feature at a time, and test how much the R2 will drop. \n",
    "\n",
    "Full R2 - partial R2 will give us the unique variance."
   ]
  },
  {
   "cell_type": "markdown",
   "id": "6cb0105e-5a49-4d2c-ab86-45a0e08053a3",
   "metadata": {},
   "source": [
    "### Try implementing this yourself\n",
    "- Compute the unique variance explained by the lower-level features, and the unique variance explained higher-level features\n",
    "- Compute the shared variance between the lower-level and higher-level feautures\n",
    "- To start: use the variable \"is_low_level\" that was defined previously. This tells you which features in 'xtrn' are in which group. (note that it doesn't include the intercept/last column)"
   ]
  },
  {
   "cell_type": "code",
   "execution_count": null,
   "id": "7e0bcfe6-8e28-4790-8cc5-42485f375fa8",
   "metadata": {
    "jupyter": {
     "source_hidden": true
    }
   },
   "outputs": [],
   "source": [
    "\n",
    "# first we'll define the set of model versions to use.\n",
    "# make feature masks that define which features to keep in each version.\n",
    "partial_names = ['full','leave_out_HL','leave_out_LL']\n",
    "\n",
    "n_feat = f_trn.shape[1]\n",
    "partial_masks = np.stack([np.ones([n_feat,]), \\\n",
    "                 np.concatenate([is_low_level, np.array([1])]), \\\n",
    "                 np.concatenate([~is_low_level, np.array([1])])])\n",
    "partial_masks = partial_masks.astype(bool)\n",
    "# [n_partial_models x n_features]\n",
    "# Note this matrix includes the intercept. keep the intercept in all partial model versions."
   ]
  },
  {
   "cell_type": "code",
   "execution_count": null,
   "id": "a965d134-872a-448b-bcaa-052c99046064",
   "metadata": {
    "jupyter": {
     "source_hidden": true
    }
   },
   "outputs": [],
   "source": [
    "\n",
    "r2_each = np.zeros((len(partial_names),))\n",
    "\n",
    "for pi in range(len(partial_names)):\n",
    "\n",
    "    pname = partial_names[pi]\n",
    "    print(pname)\n",
    "    pmask = partial_masks[pi]\n",
    "    \n",
    "    # select just the features of interest here\n",
    "    xtrn_use = xtrn[:,pmask]\n",
    "    xout_use = xout[:,pmask]\n",
    "    xval_use = xval[:,pmask]\n",
    "    lambda_vec_use = lambda_vectors[:,pmask]\n",
    "    \n",
    "    print(xtrn_use.shape)\n",
    "    \n",
    "    # xT * x\n",
    "    mult = xtrn_use.T @ xtrn_use\n",
    "    \n",
    "    # make an identity matrix\n",
    "    ridge_term = torch.eye(xtrn_use.size()[1], device=device, dtype=torch.float64)\n",
    "    \n",
    "    # make versions of this matrix that are adjusted by each possible lambda value\n",
    "    # this is: (X^T @ X + lambda*I)^(-1)\n",
    "    # first dim is the different lambda values.\n",
    "    lambda_matrices = torch.stack([(mult+ridge_term*l).inverse() \\\n",
    "               for l in lambda_vec_use], axis=0)\n",
    "    \n",
    "    cofactor = torch.tensordot(lambda_matrices, xtrn_use, dims=[[2],[1]]) \n",
    "    \n",
    "    # solve for weights\n",
    "    beta = torch.tensordot(cofactor, vtrn, dims=[[2], [0]]) # [#lambdas, #feature, #voxel]\n",
    "    \n",
    "    # predict the response on held-out data, using features from held-out data (xout)\n",
    "    pred = torch.tensordot(xout_use, beta, dims=[[1],[1]]) # [#samples, #lambdas, #voxels]\n",
    "    \n",
    "    # compute loss for held-out data\n",
    "    loss = torch.sum(torch.pow(vout[:,None,:] - pred, 2), dim=0) # [#lambdas, #voxels]\n",
    "    \n",
    "    # choose the best lambda value\n",
    "    best_lambda_ind = np.argmin(loss)\n",
    "    \n",
    "    # we want to keep the weights that correspond to best lambda values\n",
    "    beta_use = beta[best_lambda_ind,:]\n",
    "\n",
    "    # predict voxel response in held-out validation data here.\n",
    "    pred = xval_use @ beta_use\n",
    "    \n",
    "    # remember to turn these back into numpy, from torch.\n",
    "    # sometimes tensors will give errors in your subsequent numpy code.\n",
    "    actual_array = vval.numpy()\n",
    "    pred_array = pred.numpy()\n",
    "    \n",
    "    r2 = get_r2(actual_array, pred_array)\n",
    "    \n",
    "    corrcoef = np.corrcoef(actual_array[:,0], pred_array[:,0])[1,0]\n",
    "\n",
    "    r2_each[pi] = r2\n",
    "\n",
    "    print('R2 = %.5f, correlation = %.5f'%(r2, corrcoef))"
   ]
  },
  {
   "cell_type": "code",
   "execution_count": null,
   "id": "27c9342d-ce14-47b2-a179-bde7a790490f",
   "metadata": {
    "jupyter": {
     "source_hidden": true
    }
   },
   "outputs": [],
   "source": [
    "\n",
    "# Compute unique variance and shared variance.\n",
    "\n",
    "# r2_each is: [full, lower-level only, higher-level only]\n",
    "unique_lowerlevel = r2_each[0] - r2_each[2]\n",
    "unique_higherlevel = r2_each[0] - r2_each[1]\n",
    "shared_var = r2_each[1] + r2_each[2] - r2_each[0]\n",
    "assert (unique_lowerlevel + unique_higherlevel + shared_var) == r2_each[0]\n",
    "# they should sum to the total R2.\n",
    "\n",
    "print('Unique variance lower-level features: %.5f'%(unique_lowerlevel))\n",
    "print('Unique variance higher-level features: %.5f'%(unique_higherlevel))\n",
    "print('Shared variance: %.5f'%(shared_var))"
   ]
  },
  {
   "cell_type": "markdown",
   "id": "f7d152c6-d65f-485d-801c-aaee80108658",
   "metadata": {},
   "source": [
    "Does the result make sense?\n",
    "\n",
    "If you go back to the top of the script, you can try other ROIs. Do the results differ between V1 and FFA?"
   ]
  },
  {
   "cell_type": "markdown",
   "id": "58396f52-74ab-4715-b5d1-0aeecbc4fb2a",
   "metadata": {},
   "source": [
    "### Look at fit parameters across voxels\n",
    "\n",
    "Using the saved model fits that we already loaded, let's examine some of the fit parameters in more detail.\n",
    "\n",
    "Variable \"out\" contains info about the model fitting for our subject of interest."
   ]
  },
  {
   "cell_type": "markdown",
   "id": "b60259e8-f6f2-483c-8ac9-31a476f5696f",
   "metadata": {},
   "source": [
    "Noise ceiling: For each voxel, this is a measure of the theoretical variance \n",
    "in its response that can be explained by a model.\n",
    "It's like a \"ceiling\" for how good R2 can be.\n",
    "\n",
    "See the section \"Noise ceiling estimation\" here for details: https://www.nature.com/articles/s41593-021-00962-x#Sec14"
   ]
  },
  {
   "cell_type": "code",
   "execution_count": 103,
   "id": "b1f7ca26-1c12-4470-a4c4-c1389ada03ec",
   "metadata": {},
   "outputs": [],
   "source": [
    "r2_val = out['val_r2'] # this is R2 for all the voxels\n",
    "\n",
    "noise_ceiling = rinfo['noise_ceiling_avgreps'] / 100"
   ]
  },
  {
   "cell_type": "markdown",
   "id": "fdfde6ed-a05b-4db2-9b78-b73898ff2407",
   "metadata": {},
   "source": [
    "### Try yourself:\n",
    "- Compare the R2 between different ROIs. Which ROIs have the best overall R2? Why?\n",
    "- Visualize the relationship between the noise ceiling and R2. \n",
    "- Compare how this differs for different ROIs.\n"
   ]
  },
  {
   "cell_type": "code",
   "execution_count": null,
   "id": "5c160449-3c9d-4a5c-84e0-1d46ebffc728",
   "metadata": {
    "jupyter": {
     "source_hidden": true
    }
   },
   "outputs": [],
   "source": [
    "\n",
    "for roi_name in ['V1d','V1v','V2d','V2v','V3d','V3v','hV4']:\n",
    "        \n",
    "    ind_num = rinfo['ret_prf_roi_names'][roi_name]\n",
    "    roi_inds = rinfo['roi_labels_retino'][voxel_mask]==ind_num\n",
    "    roi_inds_num = np.where(roi_inds)[0]\n",
    "    len(roi_inds), np.sum(roi_inds)\n",
    "\n",
    "    m = np.mean(r2_val[roi_inds])\n",
    "    s = np.std(r2_val[roi_inds])\n",
    "\n",
    "    print('%s: R2 = %.2f +/- %.2f'%(roi_name, m, s))"
   ]
  },
  {
   "cell_type": "code",
   "execution_count": 104,
   "id": "2000da3d-5e8b-44e7-b2f3-a4654c570772",
   "metadata": {
    "collapsed": true,
    "jupyter": {
     "outputs_hidden": true,
     "source_hidden": true
    }
   },
   "outputs": [
    {
     "data": {
      "text/plain": [
       "Text(0.5, 1.0, 'V1d')"
      ]
     },
     "execution_count": 104,
     "metadata": {},
     "output_type": "execute_result"
    },
    {
     "data": {
      "image/png": "[encoded data removed]",
      "text/plain": [
       "<Figure size 400x400 with 1 Axes>"
      ]
     },
     "metadata": {},
     "output_type": "display_data"
    }
   ],
   "source": [
    "\n",
    "roi_name = 'V1d' #dorsal part of V1. \n",
    "# you could also try other ROI names. \n",
    "# can use anything in: rinfo['ret_prf_roi_names']\n",
    "# for example V2d, hV4...\n",
    "ind_num = rinfo['ret_prf_roi_names'][roi_name]\n",
    "roi_inds = rinfo['roi_labels_retino'][voxel_mask]==ind_num\n",
    "roi_inds_num = np.where(roi_inds)[0]\n",
    "len(roi_inds), np.sum(roi_inds)\n",
    "\n",
    "\n",
    "plt.figure(figsize=(4, 4))\n",
    "plt.plot(noise_ceiling[roi_inds], r2_val[roi_inds],'.')\n",
    "plt.axhline(0, color=[0.8, 0.8, 0.8])\n",
    "plt.axvline(0, color=[0.8, 0.8, 0.8])\n",
    "plt.xlim([-0.1, 1])\n",
    "plt.ylim([-0.1, 1])\n",
    "plt.plot([-0.1, 1], [-0.1, 1], '-', color='k')\n",
    "plt.xlabel('Noise Ceiling')\n",
    "plt.ylabel('Actual R2')\n",
    "\n",
    "plt.title('%s'%roi_name)"
   ]
  },
  {
   "cell_type": "markdown",
   "id": "b0634f30-e72b-4fac-9ca5-4669e04cd9e2",
   "metadata": {},
   "source": [
    "### Pull out the pRF parameters for single voxels"
   ]
  },
  {
   "cell_type": "code",
   "execution_count": 108,
   "id": "7d2b2c52-9401-4c2b-9a2b-7daebb358c95",
   "metadata": {},
   "outputs": [],
   "source": [
    "prf_pars = out['best_params'][0][:,0,:]\n",
    "x = prf_pars[:,0]\n",
    "y = prf_pars[:,1]\n",
    "\n",
    "# convert these to coordinates of degrees visual angle.\n",
    "screen_eccen_deg = 8.4\n",
    "angle_fwrf, eccen_fwrf = prf_utils.cart_to_pol(x*screen_eccen_deg,y*screen_eccen_deg)\n",
    "# angle = polar angle, in a counter-clockwise direction from far right.\n",
    "# eccentricity = distance from center of screen.\n",
    "sigma = prf_pars[:,2]\n",
    "size_fwrf = sigma * screen_eccen_deg\n",
    "\n",
    "unique_size = np.unique(size_fwrf.round(3))\n",
    "unique_eccen = np.unique(eccen_fwrf.round(3))\n",
    "unique_size, unique_eccen\n",
    "n_size = len(unique_size)\n",
    "n_eccen = len(unique_eccen)"
   ]
  },
  {
   "cell_type": "markdown",
   "id": "19cfea36-ba35-4759-a6bd-a8052aaef5b2",
   "metadata": {},
   "source": [
    "### Try yourself:\n",
    "- Compare pRF parameters for different ROIs. How do the distributions of size and eccentricity vary across areas?\n",
    "- Compare relationships between pRF size and eccentricity. Are these related?\n",
    "- Look at the distribution of pRF angles. Is it uniform? Are some angles more common?\n",
    "- How do pRF parameters relate to the R2 for single voxels?"
   ]
  },
  {
   "cell_type": "code",
   "execution_count": 153,
   "id": "004da21f-969f-4caf-ae02-9fa39d850aa5",
   "metadata": {},
   "outputs": [],
   "source": [
    "# first, choosing good voxels based on their R2\n",
    "\n",
    "r2_val = out['val_r2']\n",
    "r2_thresh = 0.10 \n",
    "# set a threshold for choosing good voxels to work with.\n",
    "# you can experiment with different values of r2_thresh\n",
    "\n",
    "good_voxels = np.squeeze(r2_val > r2_thresh)\n",
    "\n",
    "# use the \"good_voxels\" when examining pRF parameters, because these are the fits we trust most."
   ]
  },
  {
   "cell_type": "code",
   "execution_count": null,
   "id": "60cb9d8a-eb27-45c0-9272-7d7f303608e0",
   "metadata": {
    "jupyter": {
     "source_hidden": true
    }
   },
   "outputs": [],
   "source": [
    "\n",
    "# making violin plots: this is like a vertical histogram.\n",
    "\n",
    "# size\n",
    "\n",
    "plt.figure(figsize=(7,3))\n",
    "\n",
    "color = [0.4, 0.4, 0.4]\n",
    "rnames = ['V1d','V1v','V2d','V2v','V3d','V3v','hV4']\n",
    "for rr, roi_name in enumerate(rnames):\n",
    "\n",
    "    ind_num = rinfo['ret_prf_roi_names'][roi_name]\n",
    "    roi_inds = (rinfo['roi_labels_retino'][voxel_mask]==ind_num) & good_voxels\n",
    "    roi_inds_num = np.where(roi_inds)[0]\n",
    "\n",
    "    vals = size_fwrf[roi_inds]\n",
    "\n",
    "    parts = plt.violinplot(vals,[rr])\n",
    "    for pc in parts['bodies']:\n",
    "        pc.set_color(color)\n",
    "    parts['cbars'].set_color(color)\n",
    "    parts['cmins'].set_color(color)\n",
    "    parts['cmaxes'].set_color(color)\n",
    "\n",
    "    plt.plot(rr, np.median(vals), 'o',\\\n",
    "                     markeredgecolor='k',markerfacecolor='none')\n",
    "\n",
    "plt.xticks(np.arange(len(rnames)), rnames);\n",
    "plt.ylabel('pRF size (deg visual angle)')\n",
    "\n",
    "\n",
    "# eccentricity\n",
    "\n",
    "plt.figure(figsize=(7,3))\n",
    "\n",
    "color = [0.4, 0.4, 0.4]\n",
    "rnames = ['V1d','V1v','V2d','V2v','V3d','V3v','hV4']\n",
    "for rr, roi_name in enumerate(rnames):\n",
    "\n",
    "    ind_num = rinfo['ret_prf_roi_names'][roi_name]\n",
    "    roi_inds = (rinfo['roi_labels_retino'][voxel_mask]==ind_num) & good_voxels\n",
    "    roi_inds_num = np.where(roi_inds)[0]\n",
    "\n",
    "    vals = eccen_fwrf[roi_inds]\n",
    "\n",
    "    parts = plt.violinplot(vals,[rr])\n",
    "    for pc in parts['bodies']:\n",
    "        pc.set_color(color)\n",
    "    parts['cbars'].set_color(color)\n",
    "    parts['cmins'].set_color(color)\n",
    "    parts['cmaxes'].set_color(color)\n",
    "\n",
    "    plt.plot(rr, np.median(vals), 'o',\\\n",
    "                     markeredgecolor='k',markerfacecolor='none')\n",
    "\n",
    "plt.xticks(np.arange(len(rnames)), rnames);\n",
    "plt.ylabel('pRF eccentricity (deg visual angle)')\n",
    "\n",
    "\n",
    "# angle\n",
    "\n",
    "plt.figure(figsize=(7,3))\n",
    "\n",
    "color = [0.4, 0.4, 0.4]\n",
    "rnames = ['V1d','V1v','V2d','V2v','V3d','V3v','hV4']\n",
    "for rr, roi_name in enumerate(rnames):\n",
    "\n",
    "    ind_num = rinfo['ret_prf_roi_names'][roi_name]\n",
    "    roi_inds = (rinfo['roi_labels_retino'][voxel_mask]==ind_num) & good_voxels\n",
    "    roi_inds_num = np.where(roi_inds)[0]\n",
    "\n",
    "    vals = angle_fwrf[roi_inds]\n",
    "\n",
    "    parts = plt.violinplot(vals,[rr])\n",
    "    for pc in parts['bodies']:\n",
    "        pc.set_color(color)\n",
    "    parts['cbars'].set_color(color)\n",
    "    parts['cmins'].set_color(color)\n",
    "    parts['cmaxes'].set_color(color)\n",
    "\n",
    "    plt.plot(rr, np.median(vals), 'o',\\\n",
    "                     markeredgecolor='k',markerfacecolor='none')\n",
    "\n",
    "plt.xticks(np.arange(len(rnames)), rnames);\n",
    "plt.ylabel('pRF angle (polar angle deg)')"
   ]
  },
  {
   "cell_type": "code",
   "execution_count": null,
   "id": "075a2702-843d-4be0-98cb-da6d845fa81b",
   "metadata": {
    "jupyter": {
     "source_hidden": true
    }
   },
   "outputs": [],
   "source": [
    "\n",
    "# size versus eccentricity\n",
    "\n",
    "for roi_name in ['V1d','hV4']:\n",
    "        \n",
    "    ind_num = rinfo['ret_prf_roi_names'][roi_name]\n",
    "    roi_inds = (rinfo['roi_labels_retino'][voxel_mask]==ind_num) & good_voxels\n",
    "    roi_inds_num = np.where(roi_inds)[0]\n",
    "    \n",
    "    size_lims = [-0.5,8.0]\n",
    "    eccen_lims = [-0.5,8.0]\n",
    "    size_ticks = np.arange(0,9,2)\n",
    "    eccen_ticks = np.arange(0,9,2)\n",
    "    \n",
    "    plt.figure(figsize=(4,4))\n",
    "    \n",
    "    xvals = eccen_fwrf[roi_inds].round(3)\n",
    "    yvals = size_fwrf[roi_inds].round(3)\n",
    "    \n",
    "    xbinned, ybinned, ybin_std = numpy_utils.bin_ydata_by_xdata(xvals, yvals, \\\n",
    "                                                                linear_bins=False,\n",
    "                                                                n_bins=10, return_std=True, use_unique=True)\n",
    "    \n",
    "    plt.errorbar(xbinned, ybinned, ybin_std, color='k')\n",
    "    \n",
    "    plt.plot(xvals, yvals,'.',color=[0.6, 0.6, 0.6], alpha=0.2)\n",
    "    \n",
    "    plt.xlim(eccen_lims)\n",
    "    plt.ylim(size_lims)\n",
    "    \n",
    "    plt.yticks(size_ticks)\n",
    "    plt.ylabel('size (deg)')\n",
    "    \n",
    "    plt.xticks(eccen_ticks)\n",
    "    plt.xlabel('eccen (deg)')\n",
    "    \n",
    "    plt.axhline(0,color=[0.8, 0.8, 0.8])\n",
    "    plt.axvline(0,color=[0.8, 0.8, 0.8])\n",
    "    \n",
    "    plt.title(roi_name)\n"
   ]
  },
  {
   "cell_type": "code",
   "execution_count": null,
   "id": "e901b609-4855-46e8-827a-315765f57929",
   "metadata": {
    "jupyter": {
     "source_hidden": true
    }
   },
   "outputs": [],
   "source": [
    "\n",
    "# Plotting pRF coverage for an example area.\n",
    "# Each circle here is one voxel.\n",
    "\n",
    "# Compare these plots for V1d and V1v. How/why are they different?\n",
    "\n",
    "for roi_name in ['V1d','V1v']:\n",
    "        \n",
    "    ind_num = rinfo['ret_prf_roi_names'][roi_name]\n",
    "    roi_inds = (rinfo['roi_labels_retino'][voxel_mask]==ind_num) & good_voxels\n",
    "    roi_inds_num = np.where(roi_inds)[0]\n",
    "    \n",
    "    plt.figure(figsize=(4, 4))\n",
    "    ax = plt.subplot(1,1,1)\n",
    "    \n",
    "    for vi, vidx in enumerate(roi_inds_num):\n",
    "    \n",
    "        plt.plot(x[vidx]*screen_eccen_deg, y[vidx]*screen_eccen_deg,'.',color='k')\n",
    "        circ = matplotlib.patches.Circle((x[vidx]*screen_eccen_deg, \\\n",
    "                                          y[vidx]*screen_eccen_deg), \\\n",
    "                                          size_fwrf[vidx], \n",
    "                                          color = [0.8, 0.8, 0.8], fill=False)\n",
    "        ax.add_artist(circ)\n",
    "    \n",
    "    plt.axis('square')\n",
    "    \n",
    "    plt.xlim([-1.5*screen_eccen_deg, 1.5*screen_eccen_deg])\n",
    "    plt.ylim([-1.5*screen_eccen_deg, 1.5*screen_eccen_deg])\n",
    "    plt.xticks(np.arange(-8,9,4))\n",
    "    plt.yticks(np.arange(-8,9,4))\n",
    "    \n",
    "    boxcolor = [0.6, 0.6, 0.6]\n",
    "    plt.plot([screen_eccen_deg/2,screen_eccen_deg/2], \\\n",
    "             [screen_eccen_deg/2, -screen_eccen_deg/2],color=boxcolor)\n",
    "    plt.plot([-screen_eccen_deg/2,-screen_eccen_deg/2], \\\n",
    "             [screen_eccen_deg/2, -screen_eccen_deg/2],color=boxcolor)\n",
    "    plt.plot([-screen_eccen_deg/2,screen_eccen_deg/2], \\\n",
    "             [screen_eccen_deg/2, screen_eccen_deg/2],color=boxcolor)\n",
    "    plt.plot([-screen_eccen_deg/2,screen_eccen_deg/2], \\\n",
    "             [-screen_eccen_deg/2, -screen_eccen_deg/2],color=boxcolor)\n",
    "    \n",
    "    plt.xlabel('x coord (deg)')\n",
    "    plt.ylabel('y coord (deg)')\n",
    "    \n",
    "    plt.title('%s (%d vox)'%(roi_name, len(roi_inds_num)))\n"
   ]
  }
 ],
 "metadata": {
  "kernelspec": {
   "display_name": "Python 3 (ipykernel)",
   "language": "python",
   "name": "python3"
  },
  "language_info": {
   "codemirror_mode": {
    "name": "ipython",
    "version": 3
   },
   "file_extension": ".py",
   "mimetype": "text/x-python",
   "name": "python",
   "nbconvert_exporter": "python",
   "pygments_lexer": "ipython3",
   "version": "3.9.16"
  }
 },
 "nbformat": 4,
 "nbformat_minor": 5
}
