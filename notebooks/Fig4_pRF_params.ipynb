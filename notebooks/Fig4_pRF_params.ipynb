{
 "cells": [
  {
   "cell_type": "code",
   "execution_count": 1,
   "id": "a5dd0046",
   "metadata": {},
   "outputs": [],
   "source": [
    "import os, sys\n",
    "import numpy as np\n",
    "import matplotlib.pyplot as plt\n",
    "from matplotlib import cm\n",
    "%matplotlib inline\n",
    "import pandas as pd\n",
    "\n",
    "# make sure the 'code' dir is on your path (change this):\n",
    "codepath = '/user_data/mmhender/texturemodel/code/'\n",
    "sys.path.insert(0,codepath)\n",
    "\n",
    "import copy\n",
    "\n",
    "from plotting import plot_utils, summary_plots, load_fits\n",
    "plot_utils.set_all_font_sizes(12)\n",
    "from utils import roi_utils, default_paths, stats_utils, prf_utils, numpy_utils"
   ]
  },
  {
   "cell_type": "markdown",
   "id": "bade857b-f079-496f-8499-e26dc224fce5",
   "metadata": {
    "tags": []
   },
   "source": [
    "#### Load model fits"
   ]
  },
  {
   "cell_type": "code",
   "execution_count": 2,
   "id": "6dce7b14-7bf1-4f8a-a8a1-336eda54ef34",
   "metadata": {},
   "outputs": [],
   "source": [
    "subjects = np.arange(1,9)\n",
    "n_subjects = len(subjects)\n",
    "\n",
    "fitting_type = 'texture_pyramid_ridge_4ori_4sf_pcaHL_fit_pRFs'\n",
    "out = [load_fits.load_fit_results(subject=ss, fitting_type=fitting_type, \\\n",
    "                                  n_from_end=0, verbose=False) \\\n",
    "                                   for ss in subjects]\n",
    "# shuffled model fits, to compute significance of model fit each ROI.\n",
    "fitting_type_shuffle = 'texture_pyramid_ridge_4ori_4sf_pcaHL_use_texture_pRFs_permutation_test'\n",
    "out_shuff = [load_fits.load_fit_results(subject=ss, fitting_type=fitting_type_shuffle, \\\n",
    "                                  n_from_end=0, verbose=False) \\\n",
    "                                    for ss in subjects]"
   ]
  },
  {
   "cell_type": "markdown",
   "id": "20de6eea-6994-495f-b139-f01ffe2fc066",
   "metadata": {},
   "source": [
    "#### Pull out the pRF params"
   ]
  },
  {
   "cell_type": "code",
   "execution_count": 3,
   "id": "e4950fcd-cf8c-4420-a6af-b6d456b23688",
   "metadata": {},
   "outputs": [],
   "source": [
    "prf_pars = np.concatenate([out[si]['best_params'][0][:,0,:] for si in range(n_subjects)], axis=0)\n",
    "x = prf_pars[:,0]\n",
    "y = prf_pars[:,1]\n",
    "\n",
    "screen_eccen_deg = 8.4\n",
    "angle_fwrf, eccen_fwrf = prf_utils.cart_to_pol(x*screen_eccen_deg,y*screen_eccen_deg)\n",
    "sigma = prf_pars[:,2]\n",
    "size_fwrf = sigma * screen_eccen_deg"
   ]
  },
  {
   "cell_type": "markdown",
   "id": "8bdea554-e6e8-46aa-88d1-d2879d694414",
   "metadata": {
    "tags": []
   },
   "source": [
    "#### Make ROI definitions"
   ]
  },
  {
   "cell_type": "code",
   "execution_count": 4,
   "id": "a37efd3e-00b6-4ba1-ab37-37a6462d0df2",
   "metadata": {},
   "outputs": [],
   "source": [
    "roi_def = roi_utils.multi_subject_roi_def(subjects, areas_include = ['V1','V2','V3','hV4', \\\n",
    "                                                      'OPA','PPA','RSC',\\\n",
    "                                                      'FFA','EBA'], use_kastner_areas=False, \\\n",
    "                                         remove_ret_overlap=True, remove_categ_overlap=True)\n",
    "roi_names = roi_def.roi_names;\n",
    "n_rois = len(roi_names)"
   ]
  },
  {
   "cell_type": "markdown",
   "id": "65e8b625-fd30-446f-a5a9-0737e433d157",
   "metadata": {},
   "source": [
    "#### Process results of permutation test, compute p-values"
   ]
  },
  {
   "cell_type": "code",
   "execution_count": 5,
   "id": "b38cda45-f3bb-4c37-83d4-cc7928ee92e6",
   "metadata": {},
   "outputs": [],
   "source": [
    "pvals_singlevoxels_modelsig = [[] for si in range(n_subjects)]\n",
    "\n",
    "for si in range(n_subjects):\n",
    "\n",
    "    # stats for single voxels\n",
    "    r2_real = out[si]['val_r2']\n",
    "    r2_shuff = out_shuff[si]['val_r2']\n",
    "\n",
    "    # for how many of the shuffle iterations did shuffle-R2 exceed real-R2?\n",
    "    p = np.mean(r2_real[:,0,None]<=r2_shuff[:,0,:], axis=1)\n",
    "    _,pvals_fdr = stats_utils.fdr_keepshape(p, alpha=0.01, \\\n",
    "                                                   method='poscorr')\n",
    "    \n",
    "    pvals_singlevoxels_modelsig[si] = pvals_fdr\n",
    "    "
   ]
  },
  {
   "cell_type": "markdown",
   "id": "46687dac-1d83-455a-894c-90403c5158ae",
   "metadata": {},
   "source": [
    "#### Threshold the voxels based on noise ceiling and result of permutation test\n",
    "Going to plot pRF params only for the vox passing these thresholds"
   ]
  },
  {
   "cell_type": "code",
   "execution_count": 6,
   "id": "796a6ee1-f79c-4f75-95a8-f79602821c06",
   "metadata": {},
   "outputs": [],
   "source": [
    "noise_ceiling = np.concatenate([summary_plots.get_noise_ceiling(out[si]) \\\n",
    "                            for si in range(n_subjects)], axis=0)\n",
    "abv_thresh = noise_ceiling>0.01\n",
    "pvals = np.concatenate(pvals_singlevoxels_modelsig, axis=0)\n",
    "\n",
    "abv_thresh = abv_thresh & (pvals<0.01)"
   ]
  },
  {
   "cell_type": "markdown",
   "id": "d12948e2-0a8b-4564-93c4-61dba29da153",
   "metadata": {},
   "source": [
    "#### Make violin plots for pRF size"
   ]
  },
  {
   "cell_type": "code",
   "execution_count": 7,
   "id": "744d1089-423f-40f8-88b3-e9e40945cbf0",
   "metadata": {},
   "outputs": [
    {
     "data": {
      "image/png": "[encoded data removed]",
      "text/plain": [
       "<Figure size 504x216 with 1 Axes>"
      ]
     },
     "metadata": {
      "needs_background": "light"
     },
     "output_type": "display_data"
    }
   ],
   "source": [
    "plot_utils.set_all_font_sizes(12)\n",
    "plt.rcParams['pdf.fonttype']=42\n",
    "\n",
    "npx = int(np.ceil(np.sqrt(n_rois)))\n",
    "npy = int(np.ceil(n_rois/npx))\n",
    "\n",
    "parslist = [size_fwrf]\n",
    "parnames = ['size']\n",
    "axnames = ['size (deg)']\n",
    "\n",
    "ylims = [-0.7, 9.2]\n",
    "\n",
    "color = [0.4, 0.4, 0.4]\n",
    "\n",
    "for pp, pars in enumerate(parslist):\n",
    "   \n",
    "    pi=0\n",
    "    # plt.figure(figsize=(12,3))\n",
    "    plt.figure(figsize=(7,3))\n",
    "\n",
    "    for rr in range(n_rois):\n",
    "\n",
    "        inds_this_roi = roi_def.get_indices(rr) & abv_thresh\n",
    "        vals = copy.deepcopy(pars[inds_this_roi])\n",
    "         \n",
    "        parts = plt.violinplot(vals,[rr])\n",
    "        for pc in parts['bodies']:\n",
    "            pc.set_color(color)\n",
    "        parts['cbars'].set_color(color)\n",
    "        parts['cmins'].set_color(color)\n",
    "        parts['cmaxes'].set_color(color)\n",
    "        \n",
    "        plt.plot(rr, np.median(vals), 'o',\\\n",
    "                     markeredgecolor='k',markerfacecolor='none')\n",
    "\n",
    "\n",
    "    plt.ylabel(axnames[pp])\n",
    "    plt.ylim(ylims)\n",
    "    plt.axhline(0,color=[0.8, 0.8, 0.8], zorder=-20)  \n",
    "    plt.xticks(ticks=np.arange(0,n_rois),labels=roi_names,\\\n",
    "                           rotation=45, ha='right',rotation_mode='anchor')\n",
    "           \n",
    "    plt.suptitle('pRF %s distributions each ROI'%parnames[pp])\n",
    "\n",
    "    fn2save = os.path.join(default_paths.fig_path, 'texture_prf_%s_violins.pdf'%parnames[pp])\n",
    "    plt.savefig(fn2save)"
   ]
  },
  {
   "cell_type": "markdown",
   "id": "c8545d7c-ba58-44ed-bbe5-550a449f5e3e",
   "metadata": {},
   "source": [
    "#### Plot size/eccentricity relationship (line with errorbars)"
   ]
  },
  {
   "cell_type": "code",
   "execution_count": null,
   "id": "7fef2b4d-0aa1-4cc3-8fa0-8366b9d53c74",
   "metadata": {},
   "outputs": [
    {
     "data": {
      "image/png": "[encoded data removed]",
      "text/plain": [
       "<Figure size 288x288 with 1 Axes>"
      ]
     },
     "metadata": {
      "needs_background": "light"
     },
     "output_type": "display_data"
    }
   ],
   "source": [
    "plt.rcParams['pdf.fonttype']=42\n",
    "\n",
    "plot_utils.set_all_font_sizes(12)\n",
    "size_lims = [-0.7, 9.2]\n",
    "eccen_lims = [-0.5, 7.5]\n",
    "size_ticks = np.arange(0,9,2)\n",
    "eccen_ticks = np.arange(0,9,2)\n",
    "\n",
    "plt.figure(figsize=(4,4))\n",
    "\n",
    "# to keep this plot simple, going to pool voxels into two rough groupings\n",
    "# early and higher visual areas\n",
    "roi_groups = [[0,1,2,3],[4,5,6,7,8]]\n",
    "\n",
    "roi_group_colors = np.flipud(cm.PuBu(np.linspace(0,1,4))[2:])\n",
    "linestyles = np.tile(['-','--',':'], int(n_rois/3))\n",
    "lh = []\n",
    "\n",
    "sp = 0.08\n",
    "\n",
    "for rg in np.arange(2):\n",
    "\n",
    "    roi_group_inds = np.any(np.array([roi_def.get_indices(rr) for rr in roi_groups[rg]]), axis=0)\n",
    "    \n",
    "    inds2use = roi_group_inds & abv_thresh\n",
    "  \n",
    "    xvals = eccen_fwrf[inds2use].round(3)\n",
    "    yvals = size_fwrf[inds2use].round(3)\n",
    "    \n",
    "    xbinned, ybinned, ybin_std = numpy_utils.bin_ydata_by_xdata(xvals, yvals, \\\n",
    "                                                                n_bins=10,\\\n",
    "                                                                linear_bins=False,\n",
    "                                                                use_unique=True,\n",
    "                                                                return_std=True)\n",
    "    \n",
    "    plt.errorbar(xbinned+sp*rg, ybinned, ybin_std, color=roi_group_colors[rg,:])\n",
    "    \n",
    "    plt.xlim(eccen_lims)\n",
    "    plt.ylim(size_lims)\n",
    "    plt.yticks(size_ticks)\n",
    "    plt.ylabel('size (deg)')\n",
    "    \n",
    "    plt.xticks(eccen_ticks)\n",
    "    plt.xlabel('eccen (deg)')\n",
    "         \n",
    "    plt.axhline(0,color=[0.8, 0.8, 0.8], zorder=-20)\n",
    "    plt.axvline(0,color=[0.8, 0.8, 0.8], zorder=-20)\n",
    "    \n",
    "fn2save = os.path.join(default_paths.fig_path,'Size_eccen_errbars_simple.pdf')\n",
    "plt.savefig(fn2save)\n"
   ]
  }
 ],
 "metadata": {
  "kernelspec": {
   "display_name": "Python 3",
   "language": "python",
   "name": "python3"
  },
  "language_info": {
   "codemirror_mode": {
    "name": "ipython",
    "version": 3
   },
   "file_extension": ".py",
   "mimetype": "text/x-python",
   "name": "python",
   "nbconvert_exporter": "python",
   "pygments_lexer": "ipython3",
   "version": "3.7.1"
  }
 },
 "nbformat": 4,
 "nbformat_minor": 5
}
